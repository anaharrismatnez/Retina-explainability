{
 "cells": [
  {
   "cell_type": "code",
   "execution_count": 1,
   "metadata": {},
   "outputs": [],
   "source": [
    "import os,cv2\n",
    "import matplotlib.pyplot as plt\n",
    "import numpy as np"
   ]
  },
  {
   "cell_type": "code",
   "execution_count": 2,
   "metadata": {},
   "outputs": [],
   "source": [
    "path = '/home/aharris/shared/indianDB/masks_seg'"
   ]
  },
  {
   "cell_type": "code",
   "execution_count": 3,
   "metadata": {},
   "outputs": [],
   "source": [
    "HE = {}\n",
    "cd = f'{path}/haemorrhages'\n",
    "for file in os.listdir(cd):\n",
    "    img_name = file.split('_')\n",
    "    cd2 = os.path.join(cd,file)\n",
    "    img = cv2.imread(cd2)\n",
    "    gray = cv2.cvtColor(img,cv2.COLOR_BGR2GRAY)\n",
    "    th,binary = cv2.threshold(gray, 1, 1, cv2.THRESH_BINARY)\n",
    "    HE[f'{img_name[1]}'] = binary"
   ]
  },
  {
   "cell_type": "code",
   "execution_count": 4,
   "metadata": {},
   "outputs": [],
   "source": [
    "EX = {}\n",
    "cd = f'{path}/hard_exudates'\n",
    "for file in os.listdir(cd):\n",
    "    img_name = file.split('_')\n",
    "    cd2 = os.path.join(cd,file)\n",
    "    img = cv2.imread(cd2)\n",
    "    gray = cv2.cvtColor(img,cv2.COLOR_BGR2GRAY)\n",
    "    th,binary = cv2.threshold(gray, 1, 1, cv2.THRESH_BINARY)\n",
    "    EX[f'{img_name[1]}'] = binary"
   ]
  },
  {
   "cell_type": "code",
   "execution_count": 5,
   "metadata": {},
   "outputs": [],
   "source": [
    "SE = {}\n",
    "cd = f'{path}/soft_exudates'\n",
    "for file in os.listdir(cd):\n",
    "    img_name = file.split('_')\n",
    "    cd2 = os.path.join(cd,file)\n",
    "    img = cv2.imread(cd2)\n",
    "    gray = cv2.cvtColor(img,cv2.COLOR_BGR2GRAY)\n",
    "    th,binary = cv2.threshold(gray, 1, 1, cv2.THRESH_BINARY)\n",
    "    SE[f'{img_name[1]}'] = binary"
   ]
  },
  {
   "cell_type": "code",
   "execution_count": 6,
   "metadata": {},
   "outputs": [
    {
     "data": {
      "text/plain": [
       "\" OD = {}\\ncd = f'{path}/optic_disc'\\nfor file in os.listdir(cd):\\n    img_name = file.split('_')\\n    cd2 = os.path.join(cd,file)\\n    img = cv2.imread(cd2)\\n    gray = cv2.cvtColor(img,cv2.COLOR_BGR2GRAY)\\n    th,binary = cv2.threshold(gray, 1, 1, cv2.THRESH_BINARY)\\n    OD[f'{img_name[1]}'] = binary \""
      ]
     },
     "execution_count": 6,
     "metadata": {},
     "output_type": "execute_result"
    }
   ],
   "source": [
    "\"\"\" OD = {}\n",
    "cd = f'{path}/optic_disc'\n",
    "for file in os.listdir(cd):\n",
    "    img_name = file.split('_')\n",
    "    cd2 = os.path.join(cd,file)\n",
    "    img = cv2.imread(cd2)\n",
    "    gray = cv2.cvtColor(img,cv2.COLOR_BGR2GRAY)\n",
    "    th,binary = cv2.threshold(gray, 1, 1, cv2.THRESH_BINARY)\n",
    "    OD[f'{img_name[1]}'] = binary \"\"\""
   ]
  },
  {
   "cell_type": "code",
   "execution_count": 7,
   "metadata": {},
   "outputs": [],
   "source": [
    "MA = {}\n",
    "cd = f'{path}/microaneurysms'\n",
    "for file in os.listdir(cd):\n",
    "    img_name = file.split('_')\n",
    "    cd2 = os.path.join(cd,file)\n",
    "    img = cv2.imread(cd2)\n",
    "    gray = cv2.cvtColor(img,cv2.COLOR_BGR2GRAY)\n",
    "    th,binary = cv2.threshold(gray, 1, 1, cv2.THRESH_BINARY)\n",
    "    MA[f'{img_name[1]}'] = binary"
   ]
  },
  {
   "cell_type": "code",
   "execution_count": 9,
   "metadata": {},
   "outputs": [
    {
     "name": "stdout",
     "output_type": "stream",
     "text": [
      "74\n",
      "39\n",
      "22\n",
      "55\n",
      "18\n",
      "03\n",
      "60\n",
      "17\n",
      "70\n",
      "30\n",
      "47\n",
      "51\n",
      "64\n",
      "32\n",
      "72\n",
      "53\n",
      "13\n",
      "08\n",
      "48\n",
      "50\n",
      "46\n",
      "31\n",
      "71\n",
      "67\n",
      "52\n",
      "49\n",
      "73\n",
      "33\n",
      "68\n",
      "25\n",
      "59\n",
      "19\n",
      "14\n",
      "54\n",
      "38\n",
      "23\n",
      "75\n",
      "35\n",
      "56\n",
      "61\n"
     ]
    }
   ],
   "source": [
    "for i in HE:\n",
    "    for j in SE:\n",
    "        if i == j:\n",
    "            print(i)\n",
    "            result = 255*(HE[i]+MA[i]+SE[i]+EX[i])\n",
    "            result = result.clip(0,255).astype('uint8')\n",
    "            cv2.imwrite(f'/home/aharris/shared/indianDB/masks_seg/masks/{i}.jpg', result)\n",
    "            del(result)\n",
    "        else:\n",
    "            continue"
   ]
  },
  {
   "cell_type": "code",
   "execution_count": 10,
   "metadata": {},
   "outputs": [],
   "source": [
    "lst = []\n",
    "for i in SE:\n",
    "    lst.append(i)"
   ]
  },
  {
   "cell_type": "code",
   "execution_count": 11,
   "metadata": {},
   "outputs": [],
   "source": [
    "rest = [k for k in HE.keys() if k not in lst]"
   ]
  },
  {
   "cell_type": "code",
   "execution_count": 12,
   "metadata": {},
   "outputs": [
    {
     "name": "stdout",
     "output_type": "stream",
     "text": [
      "34\n",
      "79\n",
      "62\n",
      "15\n",
      "58\n",
      "76\n",
      "36\n",
      "20\n",
      "57\n",
      "01\n",
      "41\n",
      "81\n",
      "66\n",
      "26\n",
      "07\n",
      "11\n",
      "24\n",
      "69\n",
      "29\n",
      "45\n",
      "05\n",
      "10\n",
      "06\n",
      "27\n",
      "12\n",
      "09\n",
      "04\n",
      "44\n",
      "28\n",
      "65\n",
      "02\n",
      "42\n",
      "78\n",
      "63\n",
      "40\n",
      "80\n",
      "16\n",
      "21\n",
      "37\n",
      "77\n"
     ]
    }
   ],
   "source": [
    "for i in rest:\n",
    "    print(i)\n",
    "    result = 255*(HE[i]+MA[i]+EX[i])\n",
    "    result = result.clip(0,255).astype('uint8')\n",
    "    cv2.imwrite(f'/home/aharris/shared/indianDB/masks_seg/masks/{i}.jpg', result)\n",
    "    del(result)\n",
    "        "
   ]
  }
 ],
 "metadata": {
  "interpreter": {
   "hash": "d4d1e4263499bec80672ea0156c357c1ee493ec2b1c70f0acce89fc37c4a6abe"
  },
  "kernelspec": {
   "display_name": "Python 3.7.7 ('base')",
   "language": "python",
   "name": "python3"
  },
  "language_info": {
   "codemirror_mode": {
    "name": "ipython",
    "version": 3
   },
   "file_extension": ".py",
   "mimetype": "text/x-python",
   "name": "python",
   "nbconvert_exporter": "python",
   "pygments_lexer": "ipython3",
   "version": "3.7.7"
  },
  "orig_nbformat": 4
 },
 "nbformat": 4,
 "nbformat_minor": 2
}
